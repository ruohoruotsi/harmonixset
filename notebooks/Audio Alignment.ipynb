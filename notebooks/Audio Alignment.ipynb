{
 "cells": [
  {
   "cell_type": "markdown",
   "metadata": {},
   "source": [
    "# Audio Alignment for Harmonix Set\n",
    "\n",
    "This notebook tries to align purchased audio with original audio from Harmonix. \n",
    "\n",
    "More specifically, for each pair of audio files:\n",
    "- Load both audio files\n",
    "- Compute chromagrams\n",
    "- Use DTW to find the correct start and end points of alignment\n",
    "- Produce the new aligned mp3s from the purchased audio"
   ]
  },
  {
   "cell_type": "code",
   "execution_count": null,
   "metadata": {},
   "outputs": [],
   "source": [
    "from __future__ import print_function\n",
    "import glob\n",
    "import IPython\n",
    "import matplotlib.pyplot as plt\n",
    "import numpy as np\n",
    "import os\n",
    "import pandas as pd\n",
    "\n",
    "import librosa\n",
    "from librosa import display\n",
    "from tqdm import tqdm_notebook as tqdm\n",
    "\n",
    "# ORIG_MP3_PATH = \"/Users/onieto/Desktop/Harmonix/audio/\"\n",
    "# PURC_MP3_PATH = \"/Users/onieto/Dropbox/drop/HarmonixMP3_YouTube/\"\n",
    "ORIG_MP3_PATH = \"/home/uri/Dropbox/drop/HarmonixMP3_original/\"\n",
    "PURC_MP3_PATH = \"/home/uri/Dropbox/drop/HarmonixMP3_YouTube/\"\n",
    "METADATA_TSV = \"../dataset/metadata.csv\"\n",
    "OUT_DIR = \"aligned_mp3s\"\n",
    "N_FFT = 8192\n",
    "HOP_SIZE = 1024\n",
    "METRIC = \"euclidean\"\n",
    "SR = 22050\n",
    "N_MELS = 90\n",
    "\n",
    "%matplotlib inline"
   ]
  },
  {
   "cell_type": "code",
   "execution_count": null,
   "metadata": {},
   "outputs": [],
   "source": [
    "# Load metadata\n",
    "meta_df = pd.read_csv(METADATA_TSV, sep=\",\")\n",
    "meta_df.head()"
   ]
  },
  {
   "cell_type": "code",
   "execution_count": null,
   "metadata": {},
   "outputs": [],
   "source": [
    "def alignment_score(dtw_curve):\n",
    "    \"\"\"The alignment score is simply the average of the difference of \n",
    "    the _purchased_ track's DTW alignment curve.\"\"\"\n",
    "    return np.mean(np.diff(dtw_curve[:,1][::-1]))\n",
    "\n",
    "def reconstruct_signal(orig_x, purc_x, dtw_curve):\n",
    "    \"\"\"Reconstructs the signal from the purchased signal using the most similar frames\n",
    "    from the original signal.\n",
    "    \n",
    "    We basically take exactly as many frames as the original signal and get the \n",
    "    closest to each of these frames from the purchased signal given the dtw curve.\"\"\"\n",
    "    orig_dict = {}\n",
    "    for w in dtw_curve[::-1]:\n",
    "        orig_dict[w[0]] = w[1]\n",
    "    y = []\n",
    "    for i in range(len(orig_dict)):\n",
    "        samp = orig_dict[i] * HOP_SIZE\n",
    "        y += list(purc_x[samp:samp + HOP_SIZE])\n",
    "    last_samp = samp + HOP_SIZE\n",
    "    y += list(purc_x[last_samp:last_samp + (len(orig_x) - len(y))])\n",
    "    return y\n",
    "\n",
    "def compute_alignment(file_id, align_thres=0.9, is_plot=False):\n",
    "    \"\"\"Main function to do the alignment between two songs of the same id.\n",
    "    \"\"\"\n",
    "    # Load mp3s\n",
    "    orig_path = os.path.join(ORIG_MP3_PATH, file_id + \".mp3\")\n",
    "    purc_path = os.path.join(PURC_MP3_PATH, file_id + \".mp3\")\n",
    "    orig_x, _ = librosa.load(orig_path, sr=SR)\n",
    "    purc_x, _ = librosa.load(purc_path, sr=SR)\n",
    "    \n",
    "    # Compute melspecs\n",
    "    orig_mel = librosa.power_to_db(\n",
    "        librosa.feature.melspectrogram(y=orig_x, sr=SR, hop_length=HOP_SIZE, n_mels=N_MELS))\n",
    "    purc_mel = librosa.power_to_db(\n",
    "        librosa.feature.melspectrogram(y=purc_x, sr=SR, hop_length=HOP_SIZE, n_mels=N_MELS))\n",
    "    \n",
    "    # Apply DTW\n",
    "    D, wp = librosa.sequence.dtw(X=orig_mel, Y=purc_mel, metric='euclidean')\n",
    "    score = alignment_score(wp)\n",
    "    \n",
    "    # Plot\n",
    "    if is_plot:\n",
    "        wp_s = np.asarray(wp) * HOP_SIZE / SR\n",
    "        fig = plt.figure(figsize=(10, 10))\n",
    "        ax = fig.add_subplot(111)\n",
    "        librosa.display.specshow(D, x_axis='time', y_axis='time',\n",
    "                                 cmap='gray_r', hop_length=HOP_SIZE)\n",
    "        imax = ax.imshow(D, cmap=plt.get_cmap('gray_r'),\n",
    "                         origin='lower', interpolation='nearest', aspect='auto')\n",
    "        ax.plot(wp_s[:, 1], wp_s[:, 0], marker='o', color='r')\n",
    "        plt.title('Warping Path on Acc. Cost Matrix $D$')\n",
    "        plt.colorbar()\n",
    "        \n",
    "    # Return reconstructed signal and score\n",
    "    return reconstruct_signal(orig_x, purc_x, wp), score"
   ]
  },
  {
   "cell_type": "code",
   "execution_count": null,
   "metadata": {},
   "outputs": [],
   "source": [
    "# Compute alignment for all the dataset, creating new audio files and storing the alignment scores\n",
    "out = {\"File\": [], \"score\": []}\n",
    "for i, row in tqdm(meta_df.iterrows(), total=len(meta_df)):\n",
    "    file_id = row[\"File\"]\n",
    "    \n",
    "    # Do alignment\n",
    "    y, score = compute_alignment(file_id)\n",
    "    \n",
    "    # Save wav\n",
    "    librosa.output.write_wav(os.path.join(OUT_DIR, file_id + \".wav\"), np.asarray(y), sr=SR)\n",
    "    \n",
    "    # Save score\n",
    "    out[\"File\"].append(file_id)\n",
    "    out[\"score\"].append(score)"
   ]
  },
  {
   "cell_type": "code",
   "execution_count": null,
   "metadata": {},
   "outputs": [],
   "source": [
    "IPython.display.Audio(data=y, rate=SR)"
   ]
  },
  {
   "cell_type": "code",
   "execution_count": null,
   "metadata": {},
   "outputs": [],
   "source": [
    "out_df = pd.DataFrame(out)\n",
    "out_df.to_csv(\"aligned_scores.tsv\", sep=\",\", index=None)"
   ]
  }
 ],
 "metadata": {
  "kernelspec": {
   "display_name": "Python 3",
   "language": "python",
   "name": "python3"
  },
  "language_info": {
   "codemirror_mode": {
    "name": "ipython",
    "version": 3
   },
   "file_extension": ".py",
   "mimetype": "text/x-python",
   "name": "python",
   "nbconvert_exporter": "python",
   "pygments_lexer": "ipython3",
   "version": "3.7.0"
  }
 },
 "nbformat": 4,
 "nbformat_minor": 2
}
